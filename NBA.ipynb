{
    "cells": [
        {
            "cell_type": "markdown",
            "metadata": {
                "collapsed": true
            },
            "source": "# NBA Mock Intern Question"
        },
        {
            "cell_type": "markdown",
            "metadata": {},
            "source": "\nThis is the home assignment as given by a company as an interview question. \nFor this class, please just focus on Question 1.\n\n\n\nhoopsAI - Home Assignment\n-------------------------\n\n\nGame 4 of the NBA finals! \nThe Golden State Warriors are taking on the Cleveland Cavaliers for what could be the championship match.\n\n\n\nWe just received the play-by-play data (PBP) and we need to understand what's going on here.\n\n\nHelp us figure it out:\n\n\n\n1) Please write a script that reads the supplied CSV which contains the PBP data and adds 4 additional columns:\n\n    \n\n- fg_home - cumulative sum of all field goal shots taken by the home team\n    \n- fg_away - cumulative sum of all field goal shots taken by the away team\n    \n- mean_shot_distance_home \n- cumulative mean distance of the shots taken by the home team\n    \n- mean_shot_distance_away \n- cumulative mean distance of the shots taken by the away team\n\n    \n\nThe script should save the new data to a new file called result.csv\n\n\n\n2) We now also want to update our PostgresSQL Database to reflect your awesome team analysis.\n\n\n\nGiven the following Table Models:\n\n\n\nclass TeamLogs():\n    \n\n\t__tablename__ = 'team_logs'\n\n    \n\tgame_id = Column(ForeignKey('schedule.game_id'), primary_key=True, nullable=False)\n    \n\tteam_id = Column(ForeignKey('teams.team_id'), primary_key=True, nullable=False)\n    \n\topponent_id = Column(ForeignKey('teams.team_id'))\n    \n\tdate = Column(DateTime)\n    \n\tis_home = Column(Boolean)\n    \n\tis_win = Column(Boolean)\n    \n\tminutes = Column(Integer)\n    \n\tpts = Column(SmallInteger)\n    \n\tast = Column(SmallInteger)\n    \n\treb = Column(SmallInteger)\n    \n\tfg = Column(SmallInteger)\n\n    \n\topponent = relationship('Team', primaryjoin='TeamLogs.opponent_id == Team.team_id')\n    \n\tteam = relationship('Team', primaryjoin='TeamLogs.team_id == Team.team_id')\n\n\n\n\nclass Team():\n   \n\t __tablename__ = 'teams'\n\n    \n\tteam_id = Column(Integer, primary_key=True)\n    \n\tteam_name = Column(String(50), nullable=False)\n    \n\tteam_abbreviation = Column(String(50), nullable=False, unique=True)\n    \n\tteam_conference = Column(String(32), nullable=False)\n\n\n\nWrite an SQL query that inserts the final fg you found in section 1 into the TeamLogs table.\n\n\nNotice:\n\n\n* you need to insert a value for both teams!\n\n\n* team_abbreviation for the teams: GSW for the away team and CLE for the home team.\n\n\nThat's it!\n\n\n\nSend us back the script, the result.csv and a txt file with the sql queries.\n\n\n\nGood luck :-)\n\n\n\n\n-------------------------\n\n\n\nA few pointers:\n\n\n\n- It is highly recommended to use python with the pandas library\n\n\n- Play by play data is a time series where each row represents a single play in a single game.\n  \n\tFirst row corresponds to the beginning of the game, going forward up to the final whistle.\n\n\n- Cumulative means that we expect the columns to have the correct number for each play for all plays from the beginning and up to that point.\n Not just the game's final values.\n"
        },
        {
            "cell_type": "code",
            "execution_count": 1,
            "metadata": {},
            "outputs": [
                {
                    "data": {
                        "text/html": "<div>\n<style scoped>\n    .dataframe tbody tr th:only-of-type {\n        vertical-align: middle;\n    }\n\n    .dataframe tbody tr th {\n        vertical-align: top;\n    }\n\n    .dataframe thead th {\n        text-align: right;\n    }\n</style>\n<table border=\"1\" class=\"dataframe\">\n  <thead>\n    <tr style=\"text-align: right;\">\n      <th></th>\n      <th>game_id</th>\n      <th>data_set</th>\n      <th>date</th>\n      <th>a1</th>\n      <th>a2</th>\n      <th>a3</th>\n      <th>a4</th>\n      <th>a5</th>\n      <th>h1</th>\n      <th>h2</th>\n      <th>...</th>\n      <th>reason</th>\n      <th>result</th>\n      <th>steal</th>\n      <th>type</th>\n      <th>shot_distance</th>\n      <th>original_x</th>\n      <th>original_y</th>\n      <th>converted_x</th>\n      <th>converted_y</th>\n      <th>description</th>\n    </tr>\n  </thead>\n  <tbody>\n    <tr>\n      <th>0</th>\n      <td>=\"0041700404\"</td>\n      <td>2018 Playoff</td>\n      <td>2018-06-08</td>\n      <td>Kevin Durant</td>\n      <td>Draymond Green</td>\n      <td>JaVale McGee</td>\n      <td>Klay Thompson</td>\n      <td>Stephen Curry</td>\n      <td>LeBron James</td>\n      <td>Kevin Love</td>\n      <td>...</td>\n      <td>NaN</td>\n      <td>NaN</td>\n      <td>NaN</td>\n      <td>start of period</td>\n      <td>NaN</td>\n      <td>NaN</td>\n      <td>NaN</td>\n      <td>NaN</td>\n      <td>NaN</td>\n      <td>NaN</td>\n    </tr>\n    <tr>\n      <th>1</th>\n      <td>=\"0041700404\"</td>\n      <td>2018 Playoff</td>\n      <td>2018-06-08</td>\n      <td>Kevin Durant</td>\n      <td>Draymond Green</td>\n      <td>JaVale McGee</td>\n      <td>Klay Thompson</td>\n      <td>Stephen Curry</td>\n      <td>LeBron James</td>\n      <td>Kevin Love</td>\n      <td>...</td>\n      <td>NaN</td>\n      <td>NaN</td>\n      <td>NaN</td>\n      <td>jump ball</td>\n      <td>NaN</td>\n      <td>NaN</td>\n      <td>NaN</td>\n      <td>NaN</td>\n      <td>NaN</td>\n      <td>Jump Ball Thompson vs. McGee: Tip to Curry</td>\n    </tr>\n    <tr>\n      <th>2</th>\n      <td>=\"0041700404\"</td>\n      <td>2018 Playoff</td>\n      <td>2018-06-08</td>\n      <td>Kevin Durant</td>\n      <td>Draymond Green</td>\n      <td>JaVale McGee</td>\n      <td>Klay Thompson</td>\n      <td>Stephen Curry</td>\n      <td>LeBron James</td>\n      <td>Kevin Love</td>\n      <td>...</td>\n      <td>NaN</td>\n      <td>missed</td>\n      <td>NaN</td>\n      <td>Reverse Layup</td>\n      <td>2.0</td>\n      <td>2.0</td>\n      <td>21.0</td>\n      <td>24.8</td>\n      <td>7.1</td>\n      <td>MISS McGee 2' Reverse Layup</td>\n    </tr>\n    <tr>\n      <th>3</th>\n      <td>=\"0041700404\"</td>\n      <td>2018 Playoff</td>\n      <td>2018-06-08</td>\n      <td>Kevin Durant</td>\n      <td>Draymond Green</td>\n      <td>JaVale McGee</td>\n      <td>Klay Thompson</td>\n      <td>Stephen Curry</td>\n      <td>LeBron James</td>\n      <td>Kevin Love</td>\n      <td>...</td>\n      <td>NaN</td>\n      <td>NaN</td>\n      <td>NaN</td>\n      <td>rebound offensive</td>\n      <td>NaN</td>\n      <td>NaN</td>\n      <td>NaN</td>\n      <td>NaN</td>\n      <td>NaN</td>\n      <td>Curry REBOUND (Off:1 Def:0)</td>\n    </tr>\n    <tr>\n      <th>4</th>\n      <td>=\"0041700404\"</td>\n      <td>2018 Playoff</td>\n      <td>2018-06-08</td>\n      <td>Kevin Durant</td>\n      <td>Draymond Green</td>\n      <td>JaVale McGee</td>\n      <td>Klay Thompson</td>\n      <td>Stephen Curry</td>\n      <td>LeBron James</td>\n      <td>Kevin Love</td>\n      <td>...</td>\n      <td>NaN</td>\n      <td>made</td>\n      <td>NaN</td>\n      <td>unknown</td>\n      <td>1.0</td>\n      <td>0.0</td>\n      <td>-6.0</td>\n      <td>25.0</td>\n      <td>4.4</td>\n      <td>Curry 1' Tip Layup Shot (2 PTS)</td>\n    </tr>\n  </tbody>\n</table>\n<p>5 rows \u00d7 44 columns</p>\n</div>",
                        "text/plain": "         game_id      data_set        date            a1              a2  \\\n0  =\"0041700404\"  2018 Playoff  2018-06-08  Kevin Durant  Draymond Green   \n1  =\"0041700404\"  2018 Playoff  2018-06-08  Kevin Durant  Draymond Green   \n2  =\"0041700404\"  2018 Playoff  2018-06-08  Kevin Durant  Draymond Green   \n3  =\"0041700404\"  2018 Playoff  2018-06-08  Kevin Durant  Draymond Green   \n4  =\"0041700404\"  2018 Playoff  2018-06-08  Kevin Durant  Draymond Green   \n\n             a3             a4             a5            h1          h2  ...  \\\n0  JaVale McGee  Klay Thompson  Stephen Curry  LeBron James  Kevin Love  ...   \n1  JaVale McGee  Klay Thompson  Stephen Curry  LeBron James  Kevin Love  ...   \n2  JaVale McGee  Klay Thompson  Stephen Curry  LeBron James  Kevin Love  ...   \n3  JaVale McGee  Klay Thompson  Stephen Curry  LeBron James  Kevin Love  ...   \n4  JaVale McGee  Klay Thompson  Stephen Curry  LeBron James  Kevin Love  ...   \n\n  reason  result steal               type  shot_distance  original_x  \\\n0    NaN     NaN   NaN    start of period            NaN         NaN   \n1    NaN     NaN   NaN          jump ball            NaN         NaN   \n2    NaN  missed   NaN      Reverse Layup            2.0         2.0   \n3    NaN     NaN   NaN  rebound offensive            NaN         NaN   \n4    NaN    made   NaN            unknown            1.0         0.0   \n\n  original_y converted_x converted_y  \\\n0        NaN         NaN         NaN   \n1        NaN         NaN         NaN   \n2       21.0        24.8         7.1   \n3        NaN         NaN         NaN   \n4       -6.0        25.0         4.4   \n\n                                  description  \n0                                         NaN  \n1  Jump Ball Thompson vs. McGee: Tip to Curry  \n2                 MISS McGee 2' Reverse Layup  \n3                 Curry REBOUND (Off:1 Def:0)  \n4             Curry 1' Tip Layup Shot (2 PTS)  \n\n[5 rows x 44 columns]"
                    },
                    "execution_count": 1,
                    "metadata": {},
                    "output_type": "execute_result"
                }
            ],
            "source": "# The code was removed by Watson Studio for sharing."
        },
        {
            "cell_type": "code",
            "execution_count": null,
            "metadata": {},
            "outputs": [],
            "source": ""
        }
    ],
    "metadata": {
        "kernelspec": {
            "display_name": "Python 3.9",
            "language": "python",
            "name": "python3"
        },
        "language_info": {
            "codemirror_mode": {
                "name": "ipython",
                "version": 3
            },
            "file_extension": ".py",
            "mimetype": "text/x-python",
            "name": "python",
            "nbconvert_exporter": "python",
            "pygments_lexer": "ipython3",
            "version": "3.9.7"
        }
    },
    "nbformat": 4,
    "nbformat_minor": 1
}